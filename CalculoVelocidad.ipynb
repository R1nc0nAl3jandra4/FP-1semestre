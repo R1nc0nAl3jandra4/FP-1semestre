{
  "nbformat": 4,
  "nbformat_minor": 0,
  "metadata": {
    "colab": {
      "provenance": [],
      "authorship_tag": "ABX9TyNzYXCpjJKt11FP3gVxzSDt",
      "include_colab_link": true
    },
    "kernelspec": {
      "name": "python3",
      "display_name": "Python 3"
    },
    "language_info": {
      "name": "python"
    }
  },
  "cells": [
    {
      "cell_type": "markdown",
      "metadata": {
        "id": "view-in-github",
        "colab_type": "text"
      },
      "source": [
        "<a href=\"https://colab.research.google.com/github/R1nc0nAl3jandra4/FP-1semestre/blob/main/CalculoVelocidad.ipynb\" target=\"_parent\"><img src=\"https://colab.research.google.com/assets/colab-badge.svg\" alt=\"Open In Colab\"/></a>"
      ]
    },
    {
      "cell_type": "code",
      "source": [
        "x = int(input(\"Ingresa la distancia en km: \"))\n",
        "print(\"La distancia es:\", x, \"km\")\n",
        "t = int(input(\"Ingresa el tiempo en horas: \"))\n",
        "v=x/t\n",
        "print(\"La velocidad es:\", v, \"km/h\")"
      ],
      "metadata": {
        "colab": {
          "base_uri": "https://localhost:8080/"
        },
        "id": "p1b7f1e93sW6",
        "outputId": "086fda3c-88f4-4628-c51e-1bdd09e3e703"
      },
      "execution_count": null,
      "outputs": [
        {
          "output_type": "stream",
          "name": "stdout",
          "text": [
            "Ingresa la distancia en km: 9\n",
            "La distancia es: 9 km\n",
            "Ingresa el tiempo en horas: 20\n",
            "La velocidad es: 0.45 km/h\n"
          ]
        }
      ]
    }
  ]
}