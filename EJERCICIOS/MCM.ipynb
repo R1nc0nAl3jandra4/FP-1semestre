{
  "nbformat": 4,
  "nbformat_minor": 0,
  "metadata": {
    "colab": {
      "provenance": [],
      "authorship_tag": "ABX9TyPYkFfe7zi/t9389QsKOI3e",
      "include_colab_link": true
    },
    "kernelspec": {
      "name": "python3",
      "display_name": "Python 3"
    },
    "language_info": {
      "name": "python"
    }
  },
  "cells": [
    {
      "cell_type": "markdown",
      "metadata": {
        "id": "view-in-github",
        "colab_type": "text"
      },
      "source": [
        "<a href=\"https://colab.research.google.com/github/R1nc0nAl3jandra4/FP-1semestre/blob/main/MCM.ipynb\" target=\"_parent\"><img src=\"https://colab.research.google.com/assets/colab-badge.svg\" alt=\"Open In Colab\"/></a>"
      ]
    },
    {
      "cell_type": "code",
      "source": [
        "import math\n",
        "\n",
        "def calcular_mcm(a, b):\n",
        "    return abs(a * b) // math.gcd(a, b)\n",
        "\n",
        "def main():\n",
        "    try:\n",
        "        a = int(input(\"Ingresa el primer número: \"))\n",
        "        b = int(input(\"Ingresa el segundo número: \"))\n",
        "\n",
        "        if a == 0 or b == 0:\n",
        "            print(\"Los números deben ser distintos de cero.\")\n",
        "        else:\n",
        "            mcm = calcular_mcm(a, b)\n",
        "            print(f\"El MCM de {a} y {b} es {mcm}\")\n",
        "    except ValueError:\n",
        "        print(\"Por favor, ingresa números enteros válidos.\")\n",
        "\n",
        "main()"
      ],
      "metadata": {
        "colab": {
          "base_uri": "https://localhost:8080/"
        },
        "id": "d6HACIM0LqLw",
        "outputId": "15e83b1c-7320-4ec1-fda5-07567807dd2a"
      },
      "execution_count": 5,
      "outputs": [
        {
          "output_type": "stream",
          "name": "stdout",
          "text": [
            "Ingresa el primer número: 8\n",
            "Ingresa el segundo número: 6\n",
            "El MCM de 8 y 6 es 24\n"
          ]
        }
      ]
    }
  ]
}