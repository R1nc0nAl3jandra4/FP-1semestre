{
  "nbformat": 4,
  "nbformat_minor": 0,
  "metadata": {
    "colab": {
      "provenance": [],
      "authorship_tag": "ABX9TyM8rf2UrZ92jJPDCIi/OIQM",
      "include_colab_link": true
    },
    "kernelspec": {
      "name": "python3",
      "display_name": "Python 3"
    },
    "language_info": {
      "name": "python"
    }
  },
  "cells": [
    {
      "cell_type": "markdown",
      "metadata": {
        "id": "view-in-github",
        "colab_type": "text"
      },
      "source": [
        "<a href=\"https://colab.research.google.com/github/R1nc0nAl3jandra4/FP-1semestre/blob/main/CalculoVelocidad.ipynb\" target=\"_parent\"><img src=\"https://colab.research.google.com/assets/colab-badge.svg\" alt=\"Open In Colab\"/></a>"
      ]
    },
    {
      "cell_type": "code",
      "source": [
        "  def calcular_velocidad():\n",
        "    try:\n",
        "        distancia =float(input(\"Ingresa la distancia recorrida (en kilómetros): \"))\n",
        "        tiempo = float(input(\"Ingresa el tiempo empleado (en horas): \"))\n",
        "\n",
        "        if tiempo <= 0:\n",
        "            print(\"El tiempo debe ser mayor que cero.\")\n",
        "            return\n",
        "\n",
        "        velocidad = distancia / tiempo\n",
        "        print(f\"La velocidad es {velocidad:.2f} km/h\")\n",
        "    except ValueError:\n",
        "        print(\"Por favor, ingresa valores numéricos válidos.\")\n",
        "\n",
        "# Ejecutar la función\n",
        "calcular_velocidad()\n"
      ],
      "metadata": {
        "colab": {
          "base_uri": "https://localhost:8080/"
        },
        "id": "L2kKwhRUmlcO",
        "outputId": "947bb44f-eed1-46f6-f150-803134e1e249"
      },
      "execution_count": null,
      "outputs": [
        {
          "output_type": "stream",
          "name": "stdout",
          "text": [
            "Ingresa la distancia recorrida (en kilómetros): 85\n",
            "Ingresa el tiempo empleado (en horas): 86\n",
            "La velocidad es 0.99 km/h\n"
          ]
        }
      ]
    }
  ]
}