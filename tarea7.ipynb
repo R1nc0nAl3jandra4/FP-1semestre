{
  "nbformat": 4,
  "nbformat_minor": 0,
  "metadata": {
    "colab": {
      "provenance": [],
      "authorship_tag": "ABX9TyOj3RvPa1mgL19BHHhums+b",
      "include_colab_link": true
    },
    "kernelspec": {
      "name": "python3",
      "display_name": "Python 3"
    },
    "language_info": {
      "name": "python"
    }
  },
  "cells": [
    {
      "cell_type": "markdown",
      "metadata": {
        "id": "view-in-github",
        "colab_type": "text"
      },
      "source": [
        "<a href=\"https://colab.research.google.com/github/R1nc0nAl3jandra4/FP-1semestre/blob/main/tarea7.ipynb\" target=\"_parent\"><img src=\"https://colab.research.google.com/assets/colab-badge.svg\" alt=\"Open In Colab\"/></a>"
      ]
    },
    {
      "cell_type": "code",
      "execution_count": 2,
      "metadata": {
        "colab": {
          "base_uri": "https://localhost:8080/"
        },
        "id": "MZbRz4p167sQ",
        "outputId": "12053dd9-1a01-433e-cb24-442f6b4d716b"
      },
      "outputs": [
        {
          "output_type": "stream",
          "name": "stdout",
          "text": [
            "Edad: 20\n"
          ]
        }
      ],
      "source": [
        "# Tipo de dato: int\n",
        "edad = 20\n",
        "print(\"Edad:\", edad)\n",
        "\n",
        "# Los enteros no son colecciones, no son indexables ni mutables.\n"
      ]
    },
    {
      "cell_type": "code",
      "source": [
        "# Tipo de dato: float\n",
        "precio = 3.1416\n",
        "print(\"Valor de precio:\", precio)\n",
        "\n",
        "# Los flotantes tampoco son colecciones, ni indexables ni mutables.\n"
      ],
      "metadata": {
        "colab": {
          "base_uri": "https://localhost:8080/"
        },
        "id": "4T1ifaCy7CqL",
        "outputId": "275d98ae-756c-4f8f-e61c-1715f5db6108"
      },
      "execution_count": 5,
      "outputs": [
        {
          "output_type": "stream",
          "name": "stdout",
          "text": [
            "Valor de precio: 3.1416\n"
          ]
        }
      ]
    },
    {
      "cell_type": "code",
      "source": [
        "# Tipo de dato: str\n",
        "saludo = \"Bienvenido a mi Notebook\"\n",
        "print(\"saludo:\", saludo)\n",
        "\n",
        "# Las cadenas son indexables pero no mutables.\n",
        "\n",
        "print(\"Primer carácter:\", saludo[0])\n",
        "\n"
      ],
      "metadata": {
        "colab": {
          "base_uri": "https://localhost:8080/"
        },
        "id": "KPysim9R7TPs",
        "outputId": "ff3e7e0a-c96b-4570-e0a4-a8e2818964d9"
      },
      "execution_count": 21,
      "outputs": [
        {
          "output_type": "stream",
          "name": "stdout",
          "text": [
            "saludo: Bienvenido a mi Notebook\n",
            "Primer carácter: B\n"
          ]
        }
      ]
    },
    {
      "cell_type": "code",
      "source": [
        "# Tipo de dato: bool\n",
        "es_mayor = True\n",
        "print(\"¿Es mayor de edad?\", es_mayor)\n",
        "\n",
        "# Los booleanos no son colecciones, ni indexables ni mutables.\n"
      ],
      "metadata": {
        "colab": {
          "base_uri": "https://localhost:8080/"
        },
        "id": "IZk6s4do8IEM",
        "outputId": "c5e17335-c1cd-4804-c032-e9df692d8c38"
      },
      "execution_count": 24,
      "outputs": [
        {
          "output_type": "stream",
          "name": "stdout",
          "text": [
            "¿Es mayor de edad? True\n"
          ]
        }
      ]
    },
    {
      "cell_type": "code",
      "source": [
        "# Tipo de dato: list\n",
        "numeros = [10, 20, 30]\n",
        "print(\"Lista original:\", numeros)\n",
        "\n",
        "# Las listas son colecciones, indexables y mutables.\n",
        "numeros[0] = 99\n",
        "print(\"Lista modificada:\", numeros)"
      ],
      "metadata": {
        "colab": {
          "base_uri": "https://localhost:8080/"
        },
        "id": "m8RsvePh-k5V",
        "outputId": "61925ec1-53df-4e64-ae58-3ddaa16b5282"
      },
      "execution_count": 20,
      "outputs": [
        {
          "output_type": "stream",
          "name": "stdout",
          "text": [
            "Lista original: [10, 20, 30]\n",
            "Lista modificada: [99, 20, 30]\n"
          ]
        }
      ]
    },
    {
      "cell_type": "code",
      "source": [
        "# Tipo de dato: tuple\n",
        "coordenadas = (5, 10)\n",
        "print(\"Coordenadas:\", coordenadas)\n",
        "\n",
        "# Las tuplas son colecciones e indexables, pero no mutables.\n",
        "print(\"X:\", coordenadas[0])"
      ],
      "metadata": {
        "colab": {
          "base_uri": "https://localhost:8080/"
        },
        "id": "2XmU8ec_7xOC",
        "outputId": "e12ad88d-f635-46ee-ec78-4de72d391407"
      },
      "execution_count": 17,
      "outputs": [
        {
          "output_type": "stream",
          "name": "stdout",
          "text": [
            "Coordenadas: (5, 10)\n",
            "X: 5\n"
          ]
        }
      ]
    },
    {
      "cell_type": "code",
      "source": [
        "# Tipo de dato: set\n",
        "colores = {\"rojo\", \"verde\", \"azul\"}\n",
        "print(\"Colores:\", colores)\n",
        "\n",
        "# Los sets son colecciones y mutables, pero no indexables.\n",
        "colores.add(\"amarillo\")\n",
        "print(\"Colores actualizados:\", colores)"
      ],
      "metadata": {
        "colab": {
          "base_uri": "https://localhost:8080/"
        },
        "id": "xVMHPtqU8CMb",
        "outputId": "6e00ccdc-d6f6-4d1e-9d87-65b4fcb75d8a"
      },
      "execution_count": 23,
      "outputs": [
        {
          "output_type": "stream",
          "name": "stdout",
          "text": [
            "Colores: {'rojo', 'verde', 'azul'}\n",
            "Colores actualizados: {'amarillo', 'rojo', 'verde', 'azul'}\n"
          ]
        }
      ]
    },
    {
      "cell_type": "code",
      "source": [
        "# Tipo de dato: dict\n",
        "persona = {\"nombre\": \"Alicia\", \"edad\": 29}\n",
        "print(\"Diccionario:\", persona)\n",
        "\n",
        "# Los diccionarios son colecciones, indexables y mutables.\n",
        "persona[\"edad\"] = 32\n",
        "print(\"Edad actualizada:\", persona[\"edad\"])"
      ],
      "metadata": {
        "colab": {
          "base_uri": "https://localhost:8080/"
        },
        "id": "32PXiKcr73NW",
        "outputId": "d9f2b3b6-972c-4bde-c8a6-54d5fafad68d"
      },
      "execution_count": 22,
      "outputs": [
        {
          "output_type": "stream",
          "name": "stdout",
          "text": [
            "Diccionario: {'nombre': 'Alicia', 'edad': 29}\n",
            "Edad actualizada: 32\n"
          ]
        }
      ]
    }
  ]
}