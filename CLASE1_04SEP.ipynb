{
  "nbformat": 4,
  "nbformat_minor": 0,
  "metadata": {
    "colab": {
      "provenance": [],
      "authorship_tag": "ABX9TyNCwcLvM218MiZ0TRpxrWWA",
      "include_colab_link": true
    },
    "kernelspec": {
      "name": "python3",
      "display_name": "Python 3"
    },
    "language_info": {
      "name": "python"
    }
  },
  "cells": [
    {
      "cell_type": "markdown",
      "metadata": {
        "id": "view-in-github",
        "colab_type": "text"
      },
      "source": [
        "<a href=\"https://colab.research.google.com/github/R1nc0nAl3jandra4/FP-1semestre/blob/main/CLASE1_04SEP.ipynb\" target=\"_parent\"><img src=\"https://colab.research.google.com/assets/colab-badge.svg\" alt=\"Open In Colab\"/></a>"
      ]
    },
    {
      "cell_type": "code",
      "execution_count": null,
      "metadata": {
        "id": "DlTNlHzhKyIh"
      },
      "outputs": [],
      "source": []
    },
    {
      "cell_type": "markdown",
      "source": [
        "#Palabras Reservadas\n",
        "\n",
        "Las palabras reservadas (keywords) corresponden a los nombres de las declaraciones que el interprete de Python incluye por defecto. No se deben utilizar dichas palabras para asignar nombres a otros objetos.\n",
        "\n",
        "El listado de palabras reservadas puede ser consultado ingresando help (\"kerwords\") desde la interfaz\n",
        "\n",
        "**ejemplo**"
      ],
      "metadata": {
        "id": "p_Bpz2dGLMtV"
      }
    },
    {
      "cell_type": "code",
      "source": [
        "help(\"keywords\")"
      ],
      "metadata": {
        "colab": {
          "base_uri": "https://localhost:8080/"
        },
        "id": "XAYOxSt8MHvU",
        "outputId": "927d0944-0d02-4f5a-8ee2-aaa7e6a45b8a"
      },
      "execution_count": null,
      "outputs": [
        {
          "output_type": "stream",
          "name": "stdout",
          "text": [
            "\n",
            "Here is a list of the Python keywords.  Enter any keyword to get more help.\n",
            "\n",
            "False               class               from                or\n",
            "None                continue            global              pass\n",
            "True                def                 if                  raise\n",
            "and                 del                 import              return\n",
            "as                  elif                in                  try\n",
            "assert              else                is                  while\n",
            "async               except              lambda              with\n",
            "await               finally             nonlocal            yield\n",
            "break               for                 not                 \n",
            "\n"
          ]
        }
      ]
    },
    {
      "cell_type": "markdown",
      "source": [
        "#El Espacio de Nombre (namespace)\n",
        "\n",
        "El espacion de nombre (namespace) contiene una relacion de los objetoss existentes en la memoria de sistema y los nombre a los que estan ligados.\n",
        "\n",
        "*   Python es un lenguaje de alto nivel en el que todos sus elementos son objetos incluyendo los tipos de datos basicos de tal forma que los terminos \"valor\" y \"objeto\" son sinonimos\n",
        "\n",
        "*   Si un objeto no esta ligado al menos a un nombre, dicho objeto es desechado por el interprete.\n",
        "\n",
        "*   Un objeto puede tener mas de un nombre.\n",
        "\n",
        "#El Operdador De Asignacion\n",
        "\n",
        "Para relacionar a un nombre con un objeto, se utiliza el operador = con la siguiente sintaxis:\n",
        "\n",
        "<nombre> = <objeto>\n",
        "\n",
        "**ejemplos**\n",
        "\n",
        "\n",
        "\n"
      ],
      "metadata": {
        "id": "boZs79iYMQN9"
      }
    },
    {
      "cell_type": "code",
      "source": [
        "saludo = \"Hola\"\n",
        "print(saludo)\n",
        "num1 = 5\n",
        "print(num1)\n",
        "num2 = \"6\"\n",
        "print(num2)\n",
        "num3 = num1 + 6\n",
        "print(num3)\n",
        "num4 = 54.23\n"
      ],
      "metadata": {
        "colab": {
          "base_uri": "https://localhost:8080/"
        },
        "id": "ff9cUsxVObyj",
        "outputId": "fa0474be-d8ea-4102-aac5-e52148c89c24"
      },
      "execution_count": null,
      "outputs": [
        {
          "output_type": "stream",
          "name": "stdout",
          "text": [
            "Hola\n",
            "5\n",
            "6\n",
            "11\n",
            "54.23\n"
          ]
        }
      ]
    },
    {
      "cell_type": "code",
      "source": [
        "entero, flotante, complejo, booleano = 12, 4.5, (12.3 + 23j), True\n",
        "print(entero)\n",
        "print(flotante)\n",
        "print(complejo)\n",
        "print(booleano)"
      ],
      "metadata": {
        "colab": {
          "base_uri": "https://localhost:8080/"
        },
        "id": "aJuVD6_3Q2ZF",
        "outputId": "76beb93c-1b8a-4b3b-a7f0-287bea078791"
      },
      "execution_count": null,
      "outputs": [
        {
          "output_type": "stream",
          "name": "stdout",
          "text": [
            "12\n",
            "4.5\n",
            "(12.3+23j)\n",
            "True\n"
          ]
        }
      ]
    }
  ]
}