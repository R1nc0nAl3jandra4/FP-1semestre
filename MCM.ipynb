{
  "nbformat": 4,
  "nbformat_minor": 0,
  "metadata": {
    "colab": {
      "provenance": [],
      "authorship_tag": "ABX9TyM48I+eRou7/4hetsG8TEqX",
      "include_colab_link": true
    },
    "kernelspec": {
      "name": "python3",
      "display_name": "Python 3"
    },
    "language_info": {
      "name": "python"
    }
  },
  "cells": [
    {
      "cell_type": "markdown",
      "metadata": {
        "id": "view-in-github",
        "colab_type": "text"
      },
      "source": [
        "<a href=\"https://colab.research.google.com/github/R1nc0nAl3jandra4/FP-1semestre/blob/main/MCM.ipynb\" target=\"_parent\"><img src=\"https://colab.research.google.com/assets/colab-badge.svg\" alt=\"Open In Colab\"/></a>"
      ]
    },
    {
      "cell_type": "code",
      "source": [
        "def mcd(a, b):\n",
        "  while b != 0:\n",
        "    r = a % b  # residuo de la división\n",
        "    a = b\n",
        "    b = r\n",
        "  return a\n",
        "\n",
        "# Ejemplo MCD\n",
        "num1 = 56\n",
        "num2 = 18\n",
        "resultado = mcd(num1, num2)\n",
        "print(f\"El MCD de {num1} y {num2} es {resultado}\")\n",
        "\n",
        "def mcm(a, b):\n",
        "  return abs(a * b) // mcd(a, b)\n",
        "\n",
        "# Ejemplo MCM\n",
        "num3 = 14\n",
        "num4 = 20\n",
        "resultado = mcm(num3, num4)\n",
        "print(f\"El MCM de {num3} y {num4} es {resultado}\")"
      ],
      "metadata": {
        "colab": {
          "base_uri": "https://localhost:8080/"
        },
        "id": "6Xafm9RF8S6p",
        "outputId": "fbb8bc47-c48e-4623-a90c-b1258e7f3986"
      },
      "execution_count": null,
      "outputs": [
        {
          "output_type": "stream",
          "name": "stdout",
          "text": [
            "El MCD de 56 y 18 es 2\n",
            "El MCM de 14 y 20 es 140\n"
          ]
        }
      ]
    }
  ]
}